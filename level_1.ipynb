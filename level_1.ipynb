{
 "cells": [
  {
   "cell_type": "code",
   "execution_count": 1,
   "metadata": {},
   "outputs": [],
   "source": [
    "from math import factorial"
   ]
  },
  {
   "cell_type": "code",
   "execution_count": 4,
   "metadata": {},
   "outputs": [],
   "source": [
    "f = [ len(str(factorial(x))) for x in range(20)]"
   ]
  },
  {
   "cell_type": "code",
   "execution_count": 5,
   "metadata": {},
   "outputs": [
    {
     "name": "stdout",
     "output_type": "stream",
     "text": [
      "[1, 1, 1, 1, 2, 3, 3, 4, 5, 6, 7, 8, 9, 10, 11, 13, 14, 15, 16, 18]\n"
     ]
    }
   ],
   "source": [
    "print(f)"
   ]
  },
  {
   "cell_type": "code",
   "execution_count": 6,
   "metadata": {},
   "outputs": [
    {
     "name": "stdout",
     "output_type": "stream",
     "text": [
      "{1, 2, 3, 4, 5, 6, 7, 8, 9, 10, 11, 13, 14, 15, 16, 18}\n"
     ]
    }
   ],
   "source": [
    "f = {len(str(factorial(x))) for x in range(20)}\n",
    "print(f)"
   ]
  },
  {
   "cell_type": "code",
   "execution_count": 8,
   "metadata": {},
   "outputs": [],
   "source": [
    "country_to_capital = { 'United Kingdom': 'London',\n",
    "                    'Brazil': 'Brasília',\n",
    "                      'Morocco': 'Rabat',\n",
    "                      'Sweden': 'Stockholm' }"
   ]
  },
  {
   "cell_type": "code",
   "execution_count": 9,
   "metadata": {},
   "outputs": [],
   "source": [
    "capital_to_country = { capital: country for country, capital in country_to_capital.items() }"
   ]
  },
  {
   "cell_type": "code",
   "execution_count": 10,
   "metadata": {},
   "outputs": [
    {
     "name": "stdout",
     "output_type": "stream",
     "text": [
      "{'London': 'United Kingdom', 'Brasília': 'Brazil', 'Rabat': 'Morocco', 'Stockholm': 'Sweden'}\n"
     ]
    }
   ],
   "source": [
    "print(capital_to_country)"
   ]
  },
  {
   "cell_type": "code",
   "execution_count": 17,
   "metadata": {},
   "outputs": [],
   "source": [
    "import os\n",
    "import glob\n",
    "\n",
    "file_sizes = { os.path.realpath(p):os.stat(p).st_size for p in glob.glob('*.py')}"
   ]
  },
  {
   "cell_type": "code",
   "execution_count": 18,
   "metadata": {},
   "outputs": [
    {
     "name": "stdout",
     "output_type": "stream",
     "text": [
      "{'D:\\\\git_repo\\\\python_tricks\\\\test.py': 20}\n"
     ]
    }
   ],
   "source": [
    "print(file_sizes)"
   ]
  },
  {
   "cell_type": "code",
   "execution_count": 19,
   "metadata": {},
   "outputs": [
    {
     "name": "stdout",
     "output_type": "stream",
     "text": [
      "Hello name='nitin'\n"
     ]
    }
   ],
   "source": [
    "name = \"nitin\"\n",
    "print(f\"Hello {name=}\")"
   ]
  },
  {
   "cell_type": "code",
   "execution_count": 20,
   "metadata": {},
   "outputs": [
    {
     "name": "stdout",
     "output_type": "stream",
     "text": [
      "Hello nitin\n"
     ]
    }
   ],
   "source": [
    "print(f\"Hello {name}\")\n"
   ]
  },
  {
   "cell_type": "code",
   "execution_count": 23,
   "metadata": {},
   "outputs": [
    {
     "name": "stdout",
     "output_type": "stream",
     "text": [
      "5.000000\n"
     ]
    }
   ],
   "source": [
    "print(f\"{len(name):.6f}\")"
   ]
  },
  {
   "cell_type": "code",
   "execution_count": 1,
   "metadata": {},
   "outputs": [],
   "source": [
    "from math import sqrt\n",
    "def is_prime(x):\n",
    "    if x < 2 :\n",
    "        return False\n",
    "    for i in range(2, int(sqrt(x))+1):\n",
    "        if x % i == 0:\n",
    "            return False\n",
    "    return True            "
   ]
  },
  {
   "cell_type": "code",
   "execution_count": 3,
   "metadata": {},
   "outputs": [
    {
     "data": {
      "text/plain": [
       "[2,\n",
       " 3,\n",
       " 5,\n",
       " 7,\n",
       " 11,\n",
       " 13,\n",
       " 17,\n",
       " 19,\n",
       " 23,\n",
       " 29,\n",
       " 31,\n",
       " 37,\n",
       " 41,\n",
       " 43,\n",
       " 47,\n",
       " 53,\n",
       " 59,\n",
       " 61,\n",
       " 67,\n",
       " 71,\n",
       " 73,\n",
       " 79,\n",
       " 83,\n",
       " 89,\n",
       " 97]"
      ]
     },
     "execution_count": 3,
     "metadata": {},
     "output_type": "execute_result"
    }
   ],
   "source": [
    "prime_list = [ x for x in range(101) if is_prime(x)]\n",
    "prime_list"
   ]
  },
  {
   "cell_type": "code",
   "execution_count": 4,
   "metadata": {},
   "outputs": [],
   "source": [
    "from pprint import pprint as pp"
   ]
  },
  {
   "cell_type": "code",
   "execution_count": 5,
   "metadata": {},
   "outputs": [
    {
     "name": "stdout",
     "output_type": "stream",
     "text": [
      "{4: (1, 2, 4),\n",
      " 9: (1, 3, 9),\n",
      " 25: (1, 5, 25),\n",
      " 49: (1, 7, 49),\n",
      " 121: (1, 11, 121),\n",
      " 169: (1, 13, 169),\n",
      " 289: (1, 17, 289),\n",
      " 361: (1, 19, 361),\n",
      " 529: (1, 23, 529),\n",
      " 841: (1, 29, 841),\n",
      " 961: (1, 31, 961),\n",
      " 1369: (1, 37, 1369),\n",
      " 1681: (1, 41, 1681),\n",
      " 1849: (1, 43, 1849),\n",
      " 2209: (1, 47, 2209),\n",
      " 2809: (1, 53, 2809),\n",
      " 3481: (1, 59, 3481),\n",
      " 3721: (1, 61, 3721),\n",
      " 4489: (1, 67, 4489),\n",
      " 5041: (1, 71, 5041),\n",
      " 5329: (1, 73, 5329),\n",
      " 6241: (1, 79, 6241),\n",
      " 6889: (1, 83, 6889),\n",
      " 7921: (1, 89, 7921),\n",
      " 9409: (1, 97, 9409)}\n"
     ]
    }
   ],
   "source": [
    "prime_square_divisors = {x*x : (1, x, x*x) for x in range(101) if is_prime(x)}\n",
    "pp(prime_square_divisors)"
   ]
  },
  {
   "cell_type": "code",
   "execution_count": 6,
   "metadata": {},
   "outputs": [
    {
     "name": "stdout",
     "output_type": "stream",
     "text": [
      "Spring\n",
      "Summer\n",
      "Fall\n",
      "Winter\n"
     ]
    },
    {
     "ename": "StopIteration",
     "evalue": "",
     "output_type": "error",
     "traceback": [
      "\u001b[1;31m---------------------------------------------------------------------------\u001b[0m",
      "\u001b[1;31mStopIteration\u001b[0m                             Traceback (most recent call last)",
      "\u001b[1;32md:\\git_repo\\python_tricks\\level_1.ipynb Cell 17'\u001b[0m in \u001b[0;36m<module>\u001b[1;34m\u001b[0m\n\u001b[0;32m      <a href='vscode-notebook-cell:/d%3A/git_repo/python_tricks/level_1.ipynb#ch0000016?line=4'>5</a>\u001b[0m \u001b[39mprint\u001b[39m(\u001b[39mnext\u001b[39m(iterator))\n\u001b[0;32m      <a href='vscode-notebook-cell:/d%3A/git_repo/python_tricks/level_1.ipynb#ch0000016?line=5'>6</a>\u001b[0m \u001b[39mprint\u001b[39m(\u001b[39mnext\u001b[39m(iterator))\n\u001b[1;32m----> <a href='vscode-notebook-cell:/d%3A/git_repo/python_tricks/level_1.ipynb#ch0000016?line=6'>7</a>\u001b[0m \u001b[39mprint\u001b[39m(\u001b[39mnext\u001b[39;49m(iterator))\n",
      "\u001b[1;31mStopIteration\u001b[0m: "
     ]
    }
   ],
   "source": [
    "iterable = ['Spring', 'Summer', 'Fall', 'Winter']\n",
    "iterator = iter(iterable)\n",
    "print(next(iterator))\n",
    "print(next(iterator))\n",
    "print(next(iterator))\n",
    "print(next(iterator))\n",
    "print(next(iterator))\n"
   ]
  },
  {
   "cell_type": "code",
   "execution_count": 15,
   "metadata": {},
   "outputs": [],
   "source": [
    "def gen123():\n",
    "    yield 1\n",
    "    yield 2\n",
    "    yield 3\n",
    "\n",
    "    \n"
   ]
  },
  {
   "cell_type": "code",
   "execution_count": null,
   "metadata": {},
   "outputs": [],
   "source": []
  },
  {
   "cell_type": "code",
   "execution_count": 13,
   "metadata": {},
   "outputs": [
    {
     "name": "stdout",
     "output_type": "stream",
     "text": [
      "1\n",
      "2\n",
      "3\n"
     ]
    },
    {
     "ename": "StopIteration",
     "evalue": "",
     "output_type": "error",
     "traceback": [
      "\u001b[1;31m---------------------------------------------------------------------------\u001b[0m",
      "\u001b[1;31mStopIteration\u001b[0m                             Traceback (most recent call last)",
      "\u001b[1;32md:\\git_repo\\python_tricks\\level_1.ipynb Cell 19'\u001b[0m in \u001b[0;36m<module>\u001b[1;34m\u001b[0m\n\u001b[0;32m      <a href='vscode-notebook-cell:/d%3A/git_repo/python_tricks/level_1.ipynb#ch0000018?line=2'>3</a>\u001b[0m \u001b[39mprint\u001b[39m(\u001b[39mnext\u001b[39m(g))\n\u001b[0;32m      <a href='vscode-notebook-cell:/d%3A/git_repo/python_tricks/level_1.ipynb#ch0000018?line=3'>4</a>\u001b[0m \u001b[39mprint\u001b[39m(\u001b[39mnext\u001b[39m(g))\n\u001b[1;32m----> <a href='vscode-notebook-cell:/d%3A/git_repo/python_tricks/level_1.ipynb#ch0000018?line=4'>5</a>\u001b[0m \u001b[39mprint\u001b[39m(\u001b[39mnext\u001b[39;49m(g))\n",
      "\u001b[1;31mStopIteration\u001b[0m: "
     ]
    }
   ],
   "source": [
    "g = gen123()\n",
    "print(next(g))\n",
    "print(next(g))\n",
    "print(next(g))\n",
    "print(next(g))"
   ]
  },
  {
   "cell_type": "code",
   "execution_count": 16,
   "metadata": {},
   "outputs": [
    {
     "name": "stdout",
     "output_type": "stream",
     "text": [
      "1\n",
      "2\n",
      "3\n"
     ]
    }
   ],
   "source": [
    "for v in gen123():\n",
    "    print(v)"
   ]
  },
  {
   "cell_type": "code",
   "execution_count": 17,
   "metadata": {},
   "outputs": [],
   "source": [
    "def gen246():\n",
    "    print(\"About to yield 2\")\n",
    "    yield 2\n",
    "    print(\"About to yield 4\")\n",
    "    yield 4\n",
    "    print(\"About to yield 6\")\n",
    "    yield 6"
   ]
  },
  {
   "cell_type": "code",
   "execution_count": 20,
   "metadata": {},
   "outputs": [
    {
     "name": "stdout",
     "output_type": "stream",
     "text": [
      "About to yield 2\n",
      "2\n"
     ]
    }
   ],
   "source": [
    "g  = gen246()\n",
    "print(next(g))"
   ]
  },
  {
   "cell_type": "code",
   "execution_count": 21,
   "metadata": {},
   "outputs": [
    {
     "name": "stdout",
     "output_type": "stream",
     "text": [
      "About to yield 4\n",
      "4\n"
     ]
    }
   ],
   "source": [
    "print(next(g))"
   ]
  },
  {
   "cell_type": "code",
   "execution_count": 22,
   "metadata": {},
   "outputs": [
    {
     "name": "stdout",
     "output_type": "stream",
     "text": [
      "About to yield 6\n",
      "6\n"
     ]
    }
   ],
   "source": [
    "print(next(g))"
   ]
  },
  {
   "cell_type": "code",
   "execution_count": 23,
   "metadata": {},
   "outputs": [
    {
     "ename": "StopIteration",
     "evalue": "",
     "output_type": "error",
     "traceback": [
      "\u001b[1;31m---------------------------------------------------------------------------\u001b[0m",
      "\u001b[1;31mStopIteration\u001b[0m                             Traceback (most recent call last)",
      "\u001b[1;32md:\\git_repo\\python_tricks\\level_1.ipynb Cell 26'\u001b[0m in \u001b[0;36m<module>\u001b[1;34m\u001b[0m\n\u001b[1;32m----> <a href='vscode-notebook-cell:/d%3A/git_repo/python_tricks/level_1.ipynb#ch0000025?line=0'>1</a>\u001b[0m \u001b[39mprint\u001b[39m(\u001b[39mnext\u001b[39;49m(g))\n",
      "\u001b[1;31mStopIteration\u001b[0m: "
     ]
    }
   ],
   "source": [
    "print(next(g))"
   ]
  },
  {
   "cell_type": "code",
   "execution_count": 24,
   "metadata": {},
   "outputs": [],
   "source": [
    "def take(count, interable):\n",
    "    counter = 0\n",
    "    for i in interable:\n",
    "        if counter == count:\n",
    "            return\n",
    "        counter += 1\n",
    "        yield i"
   ]
  },
  {
   "cell_type": "code",
   "execution_count": 25,
   "metadata": {},
   "outputs": [],
   "source": [
    "def run_take():\n",
    "    items = [1, 2, 3, 4, 5, 6]\n",
    "    for item in take(3, items):\n",
    "        print(item)"
   ]
  },
  {
   "cell_type": "code",
   "execution_count": 27,
   "metadata": {},
   "outputs": [
    {
     "name": "stdout",
     "output_type": "stream",
     "text": [
      "1\n",
      "2\n",
      "3\n"
     ]
    }
   ],
   "source": [
    "run_take()"
   ]
  },
  {
   "cell_type": "code",
   "execution_count": null,
   "metadata": {},
   "outputs": [],
   "source": []
  }
 ],
 "metadata": {
  "interpreter": {
   "hash": "204bcc62c76d6fc1bd00e7b62efe74badf2dba0b3cb7925a2e541a480e3cd2ef"
  },
  "kernelspec": {
   "display_name": "Python 3.9.7 ('virtual_env': venv)",
   "language": "python",
   "name": "python3"
  },
  "language_info": {
   "codemirror_mode": {
    "name": "ipython",
    "version": 3
   },
   "file_extension": ".py",
   "mimetype": "text/x-python",
   "name": "python",
   "nbconvert_exporter": "python",
   "pygments_lexer": "ipython3",
   "version": "3.9.7"
  },
  "orig_nbformat": 4
 },
 "nbformat": 4,
 "nbformat_minor": 2
}
